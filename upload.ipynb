{
 "cells": [
  {
   "cell_type": "code",
   "execution_count": null,
   "metadata": {},
   "outputs": [
    {
     "name": "stdout",
     "output_type": "stream",
     "text": [
      "{'Mercury_7175875': 'C', 'Mercury_SC_409171': 'B', 'Mercury_SC_408547': 'C', 'Mercury_407327': 'D', 'MCAS_2006_9_44': 'D', 'Mercury_7270393': 'B', 'MCAS_2014_5_7': 'C', 'Mercury_7086660': 'C', 'Mercury_7168805': 'B', 'MCAS_2003_8_11': 'A', 'Mercury_7250058': 'B', 'Mercury_7012740': 'A', 'Mercury_LBS10610': 'C', 'Mercury_SC_407400': 'C', 'Mercury_7212993': 'C', 'Mercury_SC_413240': 'A', 'Mercury_7186358': 'C', 'Mercury_7166425': 'B', 'MDSA_2007_8_3': 'A', 'Mercury_7094290': 'C', 'Mercury_7186568': 'B', 'Mercury_402216': 'B', 'Mercury_404894': 'A', 'MCAS_2002_8_11': 'C', 'Mercury_SC_405086': 'B', 'Mercury_SC_408324': 'D', 'Mercury_7218820': 'B', 'Mercury_412202': 'B', 'Mercury_SC_409139': 'C', 'Mercury_400687': 'B', 'Mercury_7171605': 'D', 'Mercury_7210245': 'C', 'AKDE&ED_2008_4_25': 'A', 'AKDE&ED_2008_4_19': 'C', 'Mercury_SC_400402': 'A', 'Mercury_7234308': 'A', 'ACTAAP_2014_5_8': 'B', 'Mercury_400407': 'B', 'Mercury_7116288': 'C', 'MCAS_2004_9_15-v1': 'B', 'NYSEDREGENTS_2015_4_26': 'C', 'Mercury_SC_401620': 'A', 'Mercury_400877': 'C', 'Mercury_7174213': 'D', 'NYSEDREGENTS_2008_8_34': '2', 'Mercury_7212398': 'B', 'Mercury_SC_401290': 'C', 'Mercury_SC_402120': 'C', 'Mercury_184975': 'C', 'Mercury_SC_400578': 'A', 'MCAS_2001_8_4': 'D', 'MCAS_2003_5_33': 'C', 'Mercury_7068513': 'A', 'AKDE&ED_2008_4_26': 'C', 'Mercury_7235638': 'C', 'MDSA_2009_5_20': 'B', 'Mercury_178325': 'C', 'Mercury_7212678': 'A', 'TAKS_2009_8_32': 'A', 'Mercury_412681': 'C', 'Mercury_400440': 'D', 'Mercury_SC_416529': 'B', 'MCAS_2006_8_1': 'D', 'TIMSS_2003_8_pg80': 'C', 'Mercury_416645': 'D', 'Mercury_406777': 'A', 'Mercury_LBS11018': 'A', 'Mercury_7139878': 'C', 'Mercury_417147': 'B', 'Mercury_7016765': 'A', 'Mercury_415303': 'A', 'Mercury_7215845': 'C', 'Mercury_7136885': 'B', 'Mercury_SC_400059': 'D', 'Mercury_7044328': 'D', 'MEA_2010_8_1': 'A', 'Mercury_414099': 'B', 'Mercury_410807': 'B', 'Mercury_403234': 'B', 'Mercury_7011323': 'A', 'Mercury_7109463': 'D', 'Mercury_SC_401277': 'C', 'MCAS_2005_5_25': 'C', 'Mercury_SC_401272': 'D', 'Mercury_7103600': 'D', 'MDSA_2009_8_2': 'A', 'Mercury_7127943': 'A', 'ACTAAP_2009_7_8': 'D', 'MCAS_2006_9_43': 'C', 'Mercury_7252088': 'C', 'Mercury_7084665': 'A', 'FCAT_2008_5_2': 'D', 'Mercury_SC_414041': 'D', 'MCAS_2014_8_20': 'A', 'Mercury_SC_401116': 'B', 'Mercury_7064680': 'C', 'Mercury_7211680': 'C', 'Mercury_180373': 'B', 'Mercury_7216248': 'B', 'Mercury_SC_417677': 'B', 'Mercury_7221655': 'C', 'MCAS_2006_9_12': 'D', 'MCAS_2004_9_2': 'A', 'Mercury_180005': 'B', 'Mercury_7071523': 'C', 'Mercury_7263375': 'B', 'TIMSS_2011_8_pg102': 'D', 'Mercury_406550': 'B', 'Mercury_SC_400057': 'D', 'TAKS_2009_5_26': 'A', 'LEAP_2007_8_10417': 'A', 'Mercury_7027405': 'A', 'Mercury_7058415': 'A', 'Mercury_7215828': 'A', 'Mercury_7064575': 'B', 'Mercury_7097493': 'D', 'AKDE&ED_2008_8_47': 'B', 'Mercury_405136': 'C', 'Mercury_415086': 'D', 'Mercury_7228725': 'C', 'Mercury_7201740': 'A', 'NYSEDREGENTS_2010_4_4': 'A', 'MEAP_2005_8_21': 'D', 'Mercury_7026355': 'A', 'Mercury_7249708': 'B', 'Mercury_7107170': 'D', 'Mercury_183820': 'A', 'Mercury_SC_401357': 'B', 'NYSEDREGENTS_2008_8_11': '4', 'Mercury_416650': 'C', 'NCEOGA_2013_5_20': 'B', 'Mercury_400500': 'C', 'Mercury_SC_401366': 'D', 'Mercury_7141610': 'B', 'Mercury_7247013': 'B', 'NYSEDREGENTS_2008_8_30': '2', 'ACTAAP_2011_5_16': 'B', 'Mercury_7093153': 'B', 'Mercury_7013965': 'A', 'Mercury_7034843': 'B', 'Mercury_SC_407610': 'D', 'Mercury_405947': 'C', 'AKDE&ED_2012_8_6': 'A', 'Mercury_7011130': 'A', 'Mercury_LBS11022': 'A', 'TIMSS_1995_8_J1': 'C', 'Mercury_SC_408366': 'B', 'Mercury_7009993': 'A', 'Mercury_401699': 'C', 'Mercury_7056858': 'A', 'Mercury_7027160': 'C', 'Mercury_400811': 'D', 'Mercury_SC_400062': 'D', 'Mercury_400699': 'B', 'Mercury_7029803': 'B', 'Mercury_SC_401372': 'D', 'Mercury_7271128': 'C', 'Mercury_407260': 'B', 'Mercury_SC_416155': 'C', 'Mercury_402145': 'B', 'AIMS_2009_4_5': 'A', 'TIMSS_2003_4_pg7': 'D', 'Mercury_7142415': 'A', 'Mercury_7212818': 'B', 'Mercury_SC_413299': 'A', 'Mercury_7132020': 'A', 'MEA_2014_8_10': 'C', 'TIMSS_1995_8_N2': 'B', 'Mercury_7024465': 'A', 'Mercury_SC_415762': 'D', 'Mercury_415093': 'D', 'LEAP_2005_8_10404': 'D', 'AIMS_2008_8_6': 'B', 'Mercury_7057173': 'D', 'TIMSS_2007_8_pg60': 'C', 'AIMS_2009_8_14': 'A', 'Mercury_185010': 'A', 'Mercury_7206938': 'A', 'Mercury_402501': 'B', 'MCAS_2011_8_15365': 'C', 'Mercury_SC_401766': 'A', 'Mercury_7162400': 'D', 'Mercury_7086695': 'C', 'Mercury_SC_402994': 'C', 'Mercury_7056298': 'A', 'Mercury_409115': 'C', 'Mercury_409647': 'D', 'Mercury_414352': 'A', 'Mercury_185325': 'C', 'Mercury_SC_412374': 'C', 'Mercury_SC_401818': 'C', 'Mercury_SC_413549': 'B', 'Mercury_7093958': 'A', 'Mercury_7102323': 'D', 'Mercury_7222793': 'B', 'Mercury_SC_400701': 'A', 'Mercury_409301': 'B', 'Mercury_SC_400383': 'C', 'CSZ_2005_5_CSZ10021': 'B', 'Mercury_SC_407070': 'B', 'Mercury_SC_400708': 'C', 'Mercury_7075040': 'C', 'Mercury_7137165': 'A', 'Mercury_SC_400046': 'B', 'Mercury_7099330': 'D', 'MDSA_2007_5_2': 'C', 'Mercury_7271758': 'B', 'MCAS_2003_8_31': 'C', 'AKDE&ED_2008_8_53': 'C', 'TIMSS_2007_8_pg109': 'C', 'Mercury_175385': 'C', 'Mercury_410669': 'D', 'MEAP_2005_8_39': 'C', 'Mercury_SC_408568': 'B', 'AKDE&ED_2008_8_7': 'B', 'Mercury_7082845': 'B', 'Mercury_SC_405726': 'D', 'Mercury_SC_415407': 'A', 'Mercury_SC_401792': 'C', 'LEAP_2000_8_4': 'B', 'Mercury_SC_413439': 'A', 'ACTAAP_2014_7_13': 'B', 'Mercury_SC_402638': 'A', 'Mercury_SC_406725': 'A', 'NYSEDREGENTS_2015_4_29': 'A', 'Mercury_406136': 'A', 'MSA_2012_5_23': 'C', 'Mercury_405873': 'B', 'Mercury_7043820': 'B', 'MCAS_2005_5_34': 'B', 'Mercury_7182245': 'D', 'MSA_2012_8_30': 'A', 'Mercury_7252753': 'A', 'TAKS_2009_8_36': 'B', 'Mercury_SC_415473': 'C', 'Mercury_SC_413624': 'B', 'Mercury_7016800': 'D', 'Mercury_SC_407228': 'D', 'Mercury_414504': 'B', 'TIMSS_2011_4_pg27': 'A', 'Mercury_SC_402029': 'D', 'Mercury_7131845': 'C', 'Mercury_SC_405533': 'B', 'Mercury_7086748': 'A', 'MDSA_2007_8_17': 'B', 'Mercury_7210473': 'C', 'Mercury_7214340': 'A', 'MCAS_2005_9_17': 'C', 'MEA_2016_8_12': 'B', 'Mercury_SC_401278': 'B', 'Mercury_SC_407689': 'D', 'Mercury_7230405': 'B', 'Mercury_SC_405640': 'A', 'Mercury_7201775': 'D', 'Mercury_7177398': 'D', 'Mercury_7041423': 'A', 'Mercury_7004743': 'D', 'Mercury_7198468': 'A', 'MEA_2014_5_11': 'C', 'Mercury_410602': 'A', 'Mercury_7108868': 'C', 'Mercury_7033828': 'D', 'TIMSS_2007_4_pg19': 'A', 'Mercury_400828': 'D', 'VASoL_2008_3_16': 'B', 'LEAP__5_10315': 'C', 'Mercury_SC_415471': 'A', 'Mercury_7247065': 'C', 'MDSA_2011_5_3': 'B', 'MDSA_2009_5_39': 'C', 'Mercury_187198': 'C', 'MCAS_2000_4_36': 'A', 'Mercury_184100': 'C', 'Mercury_LBS10814': 'B', 'Mercury_SC_408384': 'B', 'Mercury_7043068': 'D', 'Mercury_411071': 'B', 'NYSEDREGENTS_2010_4_24': 'B', 'Mercury_SC_409673': 'D', 'Mercury_SC_400374': 'B', 'CSZ_2009_8_CSZ20740': 'B', 'Mercury_SC_406482': 'D', 'OHAT_2007_8_24': 'A', 'Mercury_188335': 'B', 'Mercury_7128555': 'B', 'Mercury_407517': 'C', 'Mercury_405950': 'C', 'MCAS_2004_9_5': 'C', 'NCEOGA_2013_8_28': 'B', 'Mercury_SC_406451': 'C', 'Mercury_7109323': 'D', 'Mercury_404132': 'B', 'Mercury_7210210': 'C', 'Mercury_SC_408042': 'B', 'MCAS_2004_8_14': 'C', 'TIMSS_2011_4_pg5': 'B', 'Mercury_SC_406833': 'C', 'Mercury_7029558': 'C', 'Mercury_7138390': 'B', 'MEAP_2005_5_12': 'A', 'MCAS_2000_4_30': 'D', 'MCAS_1998_4_12': 'C', 'Mercury_175840': 'B', 'Mercury_7099190': 'C', 'Mercury_SC_401605': 'A', 'TAKS_2009_5_36': 'A', 'Mercury_7171570': 'D', 'Mercury_SC_402057': 'C', 'Mercury_SC_413628': 'C', 'Mercury_LBS10131': 'C', 'Mercury_7032428': 'B', 'Mercury_7025008': 'A', 'MEA_2011_8_19': 'D', 'NYSEDREGENTS_2008_8_27': '3', 'VASoL_2007_5_22': 'B', 'NCEOGA_2013_5_19': 'A', 'Mercury_7037555': 'C', 'Mercury_402132': 'B', 'MCAS_2006_8_24': 'A', 'Mercury_7128923': 'B', 'Mercury_416379': 'A', 'Mercury_7168053': 'C', 'AKDE&ED_2008_8_1': 'A', 'Mercury_SC_415476': 'B', 'Mercury_7106960': 'A', 'Mercury_7160563': 'C', 'Mercury_7068583': 'B', 'Mercury_404638': 'D', 'Mercury_SC_407138': 'A', 'MCAS_2000_4_10': 'D', 'Mercury_177748': 'D', 'MCAS_2004_9_21-v1': 'C', 'MDSA_2007_5_16': 'A', 'Mercury_401763': 'B', 'Mercury_7268118': 'C', 'Mercury_403232': 'D', 'Mercury_415081': 'A', 'Mercury_7206378': 'B', 'CSZ30169': 'A', 'Mercury_7013948': 'D', 'Mercury_SC_402164': 'C', 'Mercury_400880': 'C', 'Mercury_7040793': 'B', 'MDSA_2010_5_29': 'D', 'LEAP__8_10365': 'A', 'Mercury_SC_401295': 'B', 'MCAS_2012_5_23625': 'C', 'Mercury_7268048': 'C', 'Mercury_SC_402629': 'A', 'NCEOGA_2013_8_42': 'D', 'Mercury_412463': 'D', 'Mercury_409295': 'B', 'Mercury_404609': 'D', 'Mercury_7230090': 'C', 'Mercury_7057488': 'D', 'MDSA_2009_4_1': 'D', 'Mercury_7150728': 'A', 'Mercury_402207': 'B', 'Mercury_411732': 'D', 'Mercury_7270113': 'C', 'AKDE&ED_2008_8_3': 'B', 'MCAS_1999_8_1': 'A', 'NYSEDREGENTS_2015_4_24': 'C', 'Mercury_7122640': 'A', 'Mercury_402547': 'C', 'Mercury_7133945': 'B', 'Mercury_7199028': 'B', 'Mercury_7217298': 'A', 'Mercury_7057680': 'C', 'Mercury_SC_400404': 'D', 'Mercury_SC_408030': 'A', 'Mercury_415083': 'B', 'Mercury_409114': 'B', 'Mercury_SC_415006': 'A', 'MSA_2012_5_15': 'C', 'Mercury_SC_402612': 'D', 'Mercury_SC_405937': 'B', 'Mercury_SC_416459': 'C', 'NAEP_2000_8_S21+4': 'C', 'Mercury_7072380': 'B', 'Mercury_SC_401373': 'A', 'Mercury_SC_400579': 'C', 'MCAS_2003_5_14': 'C', 'MSA_2015_8_30': 'A', 'Mercury_SC_415416': 'C', 'NYSEDREGENTS_2012_8_42': '2', 'NCEOGA_2013_5_9': 'B', 'MEAP_2005_8_45': 'D', 'Mercury_SC_400594': 'D', 'NCEOGA_2013_8_43': 'A', 'MCAS_2006_8_13': 'C', 'Mercury_7168823': 'D', 'Mercury_7158935': 'C', 'Mercury_7172708': 'B', 'ACTAAP_2010_5_1': 'A', 'Mercury_7093048': 'C', 'Mercury_7081603': 'C', 'Mercury_SC_LBS11003': 'D', 'MCAS_2005_8_2': 'C', 'ACTAAP_2010_7_14': 'C', 'NYSEDREGENTS_2008_4_15': 'C', 'Mercury_7107240': 'A', 'Mercury_7218628': 'C', 'MSA_2013_5_23': 'D', 'Mercury_7081725': 'A', 'Mercury_SC_413542': 'A', 'Mercury_SC_407302': 'C', 'Mercury_175053': 'D', 'Mercury_7161315': 'B', 'Mercury_189070': 'A', 'Mercury_7189123': 'B', 'Mercury_SC_402171': 'D', 'Mercury_7217368': 'B', 'Mercury_LBS10933': 'A', 'Mercury_7223160': 'C', 'Mercury_SC_401324': 'D', 'LEAP_2001_8_10379': 'A', 'VASoL_2009_5_30': 'D', 'Mercury_416404': 'D', 'Mercury_7103530': 'B', 'Mercury_7030870': 'A', 'LEAP__7_10348': 'C', 'Mercury_SC_406835': 'B', 'Mercury_178255': 'B', 'MDSA_2012_8_16': 'B', 'Mercury_409645': 'D', 'TIMSS_2003_8_pg47': 'C', 'NYSEDREGENTS_2010_8_16': '2', 'Mercury_7159810': 'B', 'Mercury_7267523': 'B', 'Mercury_SC_401006': 'A', 'ACTAAP_2010_7_12': 'D', 'MEAP_2005_8_13': 'D', 'Mercury_7164623': 'C', 'Mercury_417127': 'A', 'Mercury_411224': 'B', 'TIMSS_2011_8_pg15': 'D', 'NYSEDREGENTS_2012_8_19': '3', 'Mercury_7222460': 'A', 'Mercury_7007420': 'C', 'Mercury_SC_405710': 'D', 'Mercury_SC_401375': 'C', 'VASoL_2010_3_22': 'A', 'Mercury_SC_408358': 'A', 'NYSEDREGENTS_2013_8_42': '2', 'Mercury_SC_400661': 'D', 'Mercury_SC_415422': 'C', 'Mercury_SC_400162': 'D', 'Mercury_7212328': 'B', 'NCEOGA_2013_8_26': 'D', 'Mercury_SC_407696': 'B', 'Mercury_SC_400052': 'B', 'Mercury_7212870': 'D', 'NYSEDREGENTS_2010_8_35': '3', 'MCAS_2010_8_12005': 'A', 'Mercury_7218505': 'B', 'Mercury_SC_400853': 'D', 'Mercury_7210455': 'C', 'Mercury_7174738': 'C', 'MCAS_2001_5_2': 'D', 'NYSEDREGENTS_2012_4_9': 'A', 'Mercury_416593': 'B', 'Mercury_7205870': 'B', 'Mercury_SC_401798': 'C', 'Mercury_7084228': 'D', 'Mercury_417460': 'A', 'Mercury_402539': 'B', 'Mercury_406800': 'B', 'Mercury_SC_408321': 'A', 'Mercury_SC_406836': 'C', 'Mercury_SC_410963': 'D', 'Mercury_7132405': 'D', 'Mercury_SC_408872': 'C', 'VASoL_2008_3_25': 'B', 'WASL_2005_8_12': 'A', 'AKDE&ED_2012_8_20': 'B', 'Mercury_7056823': 'B', 'Mercury_7205800': 'B', 'Mercury_SC_402282': 'A', 'MCAS_1998_8_26': 'C', 'Mercury_7230318': 'D', 'Mercury_SC_416167': 'C', 'Mercury_7027720': 'B', 'LEAP__5_10312': 'B', 'Mercury_405161': 'D', 'Mercury_SC_409245': 'D', 'ACTAAP_2011_5_8': 'C', 'Mercury_7223370': 'D', 'Mercury_SC_400697': 'B', 'Mercury_SC_401262': 'D', 'Mercury_7136063': 'B', 'Mercury_405876': 'D', 'Mercury_7057890': 'A', 'LEAP_2002_4_10247': 'B', 'Mercury_SC_405481': 'C', 'Mercury_SC_400401': 'B', 'Mercury_7064260': 'B', 'Mercury_7015995': 'B', 'Mercury_400887': 'B', 'Mercury_7247678': 'A', 'MDSA_2007_8_24': 'C', 'AKDE&ED_2008_8_48': 'A', 'Mercury_401014': 'C', 'Mercury_7106698': 'A', 'Mercury_7143308': 'B', 'MCAS_2005_9_21': 'B', 'Mercury_400443': 'B', 'Mercury_7283430': 'B', 'Mercury_7159250': 'C', 'Mercury_401912': 'A', 'Mercury_7219328': 'B', 'Mercury_7214498': 'C', 'TAKS_2009_5_14': 'A', 'NYSEDREGENTS_2013_4_17': 'D', 'Mercury_403907': 'C', 'Mercury_7081480': 'A', 'Mercury_416505': 'B', 'Mercury_7041668': 'D', 'Mercury_SC_401309': 'C', 'NYSEDREGENTS_2010_4_1': 'B', 'ACTAAP_2007_7_36': 'C', 'VASoL_2009_3_12': 'D', 'Mercury_7085295': 'C', 'Mercury_7201968': 'A', 'Mercury_7214008': 'C', 'Mercury_176855': 'B', 'Mercury_SC_401678': 'B', 'Mercury_417143': 'D', 'NYSEDREGENTS_2013_4_21': 'D', 'Mercury_7032620': 'B', 'NYSEDREGENTS_2008_8_9': '4', 'TAKS_2009_8_27': 'C', 'NCEOGA_2013_8_57': 'C', 'Mercury_SC_413143': 'C', 'Mercury_401195': 'D', 'CSZ10358': 'A', 'MCAS_1999_4_26': 'C', 'AKDE&ED_2008_8_36': 'A', 'Mercury_7017938': 'B', 'MDSA_2013_8_32': 'D', 'Mercury_7038028': 'C', 'Mercury_7057103': 'C', 'NYSEDREGENTS_2008_4_26': 'C', 'Mercury_417117': 'C', 'MCAS_2016_8_15': 'C', 'Mercury_400780': 'C', 'NYSEDREGENTS_2008_8_32': '1', 'Mercury_SC_416104': 'C', 'Mercury_416646': 'B', 'Mercury_SC_405296': 'C', 'MCAS_2006_8_31': 'D', 'MCAS_2015_5_14': 'A', 'Mercury_417465': 'C', 'MCAS_1998_4_19': 'D', 'Mercury_7214778': 'D', 'Mercury_7123393': 'D', 'Mercury_7207550': 'D', 'Mercury_SC_405827': 'B', 'NYSEDREGENTS_2015_4_11': 'D', 'Mercury_404097': 'C', 'AIMS_2009_4_4': 'C', 'NCEOGA_2013_8_18': 'A', 'Mercury_400884': 'B', 'Mercury_7219678': 'A', 'ACTAAP_2010_5_7': 'B', 'ACTAAP_2012_7_9': 'C', 'MCAS_2005_8_6': 'A', 'Mercury_SC_401162': 'C', 'Mercury_SC_407710': 'D', 'VASoL_2009_3_23': 'D', 'Mercury_SC_402276': 'D', 'Mercury_400744': 'A', 'Mercury_SC_LBS10902': 'B', 'Mercury_7133245': 'B', 'Mercury_7131530': 'B', 'Mercury_7041143': 'C', 'MCAS_2010_5_11984': 'A', 'Mercury_7159285': 'C', 'AIMS_2008_8_13': 'D', 'MDSA_2013_8_20': 'C', 'Mercury_7114100': 'A', 'Mercury_7213343': 'A', 'Mercury_SC_LBS10597': 'A', 'Mercury_7126263': 'B', 'Mercury_7133613': 'A', 'Mercury_7234605': 'D', 'Mercury_SC_400839': 'B', 'Mercury_SC_402984': 'B', 'NYSEDREGENTS_2012_4_29': 'C', 'VASoL_2009_3_22': 'D', 'Mercury_409349': 'A', 'Mercury_SC_407417': 'D', 'VASoL_2007_5_21': 'C', 'MCAS_2012_8_23651': 'A', 'MCAS_2000_4_26': 'D', 'Mercury_SC_410971': 'A', 'Mercury_404841': 'D', 'Mercury_416651': 'A', 'Mercury_416576': 'B', 'MCAS_1998_8_24': 'D', 'Mercury_SC_408367': 'B', 'Mercury_405804': 'D', 'Mercury_7216318': 'A', 'Mercury_401312': 'D', 'MDSA_2013_8_23': 'D', 'Mercury_SC_405880': 'A', 'ACTAAP_2009_5_12': 'B', 'CSZ20754': 'B', 'Mercury_184363': 'D', 'Mercury_7188195': 'C', 'Mercury_7221043': 'D', 'Mercury_7107328': 'B', 'Mercury_415084': 'C', 'Mercury_415082': 'A', 'Mercury_SC_416169': 'A', 'MEA_2011_8_13': 'A', 'TIMSS_2003_4_pg82': 'A', 'CSZ30338': 'C', 'TIMSS_2003_8_pg85': 'B', 'Mercury_7221988': 'C', 'NCEOGA_2013_5_11': 'D', 'MCAS_2013_8_29416': 'B', 'Mercury_SC_401142': 'B', 'Mercury_7206395': 'C', 'Mercury_179025': 'B', 'Mercury_7130620': 'B', 'Mercury_177870': 'C', 'Mercury_7282083': 'B', 'Mercury_SC_400233': 'C', 'Mercury_7082443': 'B', 'NCEOGA_2013_8_15': 'B', 'Mercury_7210140': 'A', 'Mercury_7106593': 'D', 'Mercury_416536': 'B', 'Mercury_410026': 'D', 'ACTAAP_2011_5_1': 'B', 'Mercury_417138': 'B', 'Mercury_7138915': 'D', 'NYSEDREGENTS_2008_4_11': 'C', 'Mercury_404435': 'D', 'MDSA_2009_5_25': 'B', 'OHAT_2007_8_12': 'C', 'Mercury_LBS10302': 'C', 'Mercury_7027248': 'B', 'Mercury_SC_401360': 'A', 'ACTAAP_2013_5_17': 'A', 'Mercury_407125': 'C', 'Mercury_404820': 'D', 'Mercury_SC_416168': 'B', 'TIMSS_1995_8_K18': 'A', 'Mercury_SC_405130': 'A', 'Mercury_SC_408631': 'C', 'Mercury_SC_408763': 'C', 'MCAS_8_2015_18': 'A', 'Mercury_411729': 'B', 'MDSA_2012_8_6': 'C', 'MCAS_1999_8_5': 'B', 'WASL_2004_8_17': 'D', 'Mercury_414365': 'C', 'Mercury_SC_415406': 'B', 'MCAS_2000_8_29': 'B', 'Mercury_416230': 'C', 'Mercury_7001295': 'C', 'MSA_2012_5_2': 'A', 'MCAS_2005_8_7': 'C', 'Mercury_7206553': 'D', 'VASoL_2010_3_39': 'A', 'Mercury_416380': 'A', 'OHAT_2008_5_34': 'C', 'Mercury_7268328': 'C', 'NYSEDREGENTS_2008_8_36': '3', 'Mercury_SC_414156': 'C', 'Mercury_7094133': 'D', 'MEA_2013_5_15': 'C', 'OHAT_2010_8_35': 'A', 'Mercury_SC_416174': 'C', 'TIMSS_1995_8_J6': 'B', 'Mercury_SC_401587': 'A', 'MDSA_2011_5_23': 'D', 'AIMS_2008_8_11': 'C', 'Mercury_7159215': 'D', 'MCAS_2006_9_30': 'B', 'MCAS_1999_4_27': 'A', 'Mercury_7016538': 'C', 'Mercury_SC_409266': 'A', 'OHAT_2007_5_15': 'B', 'Mercury_7230073': 'B', 'Mercury_7245840': 'B', 'Mercury_SC_401788': 'B', 'ACTAAP_2014_7_5': 'D', 'MCAS_2004_5_11': 'D', 'NCEOGA_2013_8_7': 'A', 'LEAP__7_10339': 'A', 'Mercury_7018270': 'C', 'Mercury_7034808': 'A', 'Mercury_7216300': 'C', 'Mercury_SC_400985': 'C', 'Mercury_7188528': 'A', 'TIMSS_1995_8_R2': 'B', 'Mercury_SC_400032': 'C', 'Mercury_7252245': 'D', 'MCAS_2002_8_17': 'D', 'MDSA_2007_8_30': 'C', 'NCEOGA_2013_5_35': 'D', 'Mercury_7082758': 'B', 'Mercury_7094308': 'C', 'Mercury_7136028': 'A', 'Mercury_7159075': 'B', 'MCAS_2015_5_19': 'B', 'MSA_2012_5_12': 'A', 'MCAS_2014_5_13': 'D', 'Mercury_SC_400392': 'C', 'Mercury_7159320': 'A', 'Mercury_7218365': 'B', 'MCAS_2004_9_10-v1': 'C', 'AIMS_2009_4_12': 'D', 'Mercury_SC_414274': 'B', 'MCAS_2005_9_6': 'C', 'MCAS_1998_4_23': 'A', 'Mercury_7075023': 'D', 'Mercury_SC_400182': 'B', 'Mercury_SC_400133': 'B', 'MSA_2013_5_11': 'D', 'Mercury_SC_408706': 'B', 'Mercury_7213325': 'D', 'Mercury_SC_LBS10932': 'B', 'Mercury_192220': 'D', 'Mercury_SC_407247': 'C', 'Mercury_7024798': 'D', 'Mercury_7180810': 'C', 'Mercury_412780': 'B', 'LEAP_2011_8_10434': 'B', 'Mercury_7200340': 'D', 'Mercury_7056525': 'C', 'Mercury_7085278': 'D', 'AKDE&ED_2008_4_35': 'D', 'MCAS_1999_8_16': 'D', 'Mercury_SC_400063': 'D', 'Mercury_SC_401666': 'D', 'TIMSS_2011_8_pg31': 'C', 'Mercury_412673': 'B', 'Mercury_7130655': 'D', 'MCAS_2004_5_7': 'B', 'Mercury_7187373': 'D', 'Mercury_SC_401361': 'C', 'MCAS_2006_8_12': 'D', 'Mercury_7233765': 'B', 'Mercury_SC_407613': 'C', 'MCAS_2005_5_24': 'A', 'Mercury_405778': 'C', 'Mercury_7263060': 'D', 'Mercury_SC_401668': 'D', 'Mercury_7230388': 'D', 'Mercury_7041650': 'D', 'Mercury_SC_409009': 'A', 'Mercury_7223143': 'D', 'ACTAAP_2007_7_3': 'D', 'Mercury_7215670': 'C', 'MEA_2010_8_15': 'A', 'Mercury_7270515': 'B', 'Mercury_7006160': 'C', 'Mercury_SC_410630': 'C', 'Mercury_7082320': 'A', 'MEA_2013_8_1': 'A', 'Mercury_7033845': 'B', 'Mercury_7221620': 'A', 'LEAP__7_10352': 'D', 'Mercury_412605': 'C', 'Mercury_416638': 'A', 'MCAS_2011_8_17694': 'A', 'Mercury_SC_400012': 'D', 'Mercury_SC_413458': 'B', 'Mercury_7139545': 'C', 'NYSEDREGENTS_2015_4_5': 'B', 'TIMSS_2003_8_pg16': 'C', 'Mercury_SC_415073': 'A', 'Mercury_7012880': 'A', 'Mercury_191625': 'D', 'Mercury_SC_402985': 'B', 'Mercury_7005425': 'A', 'MDSA_2013_8_40': 'C', 'Mercury_401684': 'B', 'NCEOGA_2013_5_17': 'B', 'Mercury_7116183': 'B', 'Mercury_7106628': 'D', 'Mercury_7203473': 'D', 'Mercury_SC_416108': 'C', 'LEAP_2007_8_10418': 'C', 'Mercury_7111178': 'C', 'Mercury_7203560': 'A', 'ACTAAP_2013_7_2': 'A', 'MCAS_2012_8_23640': 'D', 'Mercury_404272': 'B', 'MCAS_2009_8_17': 'B', 'AIMS_2008_4_5': 'C', 'Mercury_7236513': 'D', 'Mercury_SC_LBS10027': 'B', 'Mercury_189053': 'D', 'Mercury_SC_414271': 'C', 'Mercury_408922': 'C', 'Mercury_7264093': 'C', 'Mercury_SC_LBS11009': 'C', 'Mercury_7191433': 'C', 'MEAP_2005_5_14': 'D', 'Mercury_416683': 'C', 'Mercury_7040775': 'B', 'Mercury_7222600': 'C', 'MCAS_2001_5_3': 'D', 'MCAS_2004_8_7': 'D', 'Mercury_415268': 'D', 'Mercury_7017710': 'C', 'Mercury_7210123': 'A', 'MCAS_2009_5_6519': 'C', 'Mercury_401502': 'D', 'Mercury_7109498': 'B', 'VASoL_2008_5_10': 'A', 'MCAS_2006_9_4': 'A', 'Mercury_402341': 'D', 'MCAS_2006_9_34': 'D', 'Mercury_7267715': 'C', 'Mercury_SC_413089': 'D', 'Mercury_SC_401656': 'A', 'Mercury_407019': 'D', 'Mercury_417128': 'B', 'Mercury_7081305': 'D', 'NYSEDREGENTS_2015_8_3': '2', 'MEA_2016_8_15': 'A', 'ACTAAP_2015_7_9': 'D', 'Mercury_7216423': 'B', 'Mercury_416633': 'A', 'Mercury_7038518': 'D', 'Mercury_7085225': 'B', 'LEAP__4_10225': 'B', 'Mercury_SC_401661': 'D', 'TIMSS_1995_8_Q15': 'A', 'MCAS_1999_4_23': 'A', 'TIMSS_1995_8_J7': 'D', 'Mercury_SC_LBS10018': 'A', 'Mercury_SC_406855': 'D', 'Mercury_SC_415457': 'D', 'NYSEDREGENTS_2015_4_25': 'C', 'Mercury_7058135': 'B', 'MDSA_2008_4_19': 'B', 'AKDE&ED_2008_8_45': 'D', 'Mercury_7131758': 'A', 'NYSEDREGENTS_2013_8_10': '2', 'Mercury_SC_401783': 'D', 'Mercury_7190120': 'B', 'Mercury_409317': 'B', 'Mercury_7268240': 'D', 'Mercury_7228358': 'D', 'MCAS_2004_5_33': 'C', 'Mercury_7008855': 'B', 'Mercury_7057085': 'B', 'Mercury_7171728': 'B', 'NAEP_2005_4_S14+3': 'C', 'Mercury_7024395': 'A', 'NYSEDREGENTS_2012_8_28': '3', 'Mercury_7090790': 'A', 'TIMSS_2003_8_pg87': 'B', 'Mercury_SC_407382': 'C', 'MDSA_2010_4_20': 'B', 'Mercury_SC_405019': 'D', 'Mercury_7123078': 'D', 'Mercury_400084': 'D', 'Mercury_7139650': 'C', 'Mercury_417150': 'B', 'Mercury_SC_402256': 'C', 'TIMSS_2007_8_pg53': 'A', 'MCAS_2006_9_17-v1': 'D', 'Mercury_401728': 'D', 'Mercury_7192798': 'C', 'Mercury_7221078': 'C', 'Mercury_7004953': 'B', 'TIMSS_2003_8_pg94': 'D', 'Mercury_7095060': 'A', 'Mercury_7123358': 'A', 'Mercury_7069020': 'A', 'TIMSS_2003_8_pg117': 'B', 'VASoL_2008_3_32': 'B', 'Mercury_SC_400142': 'A', 'Mercury_7163818': 'D', 'Mercury_402502': 'D', 'Mercury_7130778': 'C', 'MEA_2010_8_18': 'C', 'Mercury_7211033': 'B', 'NYSEDREGENTS_2008_8_17': '1', 'NAEP_2005_8_S11+1': 'C', 'Mercury_412774': 'C', 'MEA_2013_5_12': 'C', 'Mercury_7098473': 'B', 'Mercury_417593': 'A', 'Mercury_7081743': 'B', 'Mercury_7018410': 'C', 'Mercury_402563': 'B', 'Mercury_416407': 'C', 'Mercury_SC_400400': 'A', 'MCAS_2000_8_22': 'D', 'MCAS_8_2014_8': 'A', 'Mercury_7206430': 'A', 'Mercury_7185343': 'D', 'OHAT_2010_8_8': 'B', 'Mercury_405462': 'B', 'Mercury_SC_LBS10337': 'A', 'Mercury_7142520': 'C', 'Mercury_SC_405501': 'D', 'Mercury_7009555': 'C', 'Mercury_409085': 'A', 'NYSEDREGENTS_2012_4_2': 'A', 'Mercury_407539': 'D', 'ACTAAP_2013_7_16': 'D', 'AKDE&ED_2008_8_34': 'D', 'MCAS_2004_8_3': 'A', 'Mercury_415272': 'B', 'Mercury_405387': 'B', 'Mercury_7116323': 'D', 'Mercury_7213430': 'B', 'Mercury_7234360': 'A', 'Mercury_405685': 'D', 'Mercury_7236740': 'B', 'Mercury_7116235': 'A', 'Mercury_SC_405357': 'C', 'Mercury_7042945': 'B', 'Mercury_7106750': 'D', 'MDSA_2009_4_34': 'B', 'Mercury_7016310': 'C', 'VASoL_2007_3_1': 'A', 'Mercury_7030468': 'A', 'Mercury_SC_402616': 'D', 'Mercury_405464': 'A', 'Mercury_7205608': 'B', 'Mercury_7015208': 'B', 'Mercury_SC_409666': 'D', 'Mercury_7230353': 'B', 'Mercury_7150343': 'B', 'Mercury_7026723': 'D', 'Mercury_7024273': 'C', 'AKDE&ED_2008_8_40': 'C', 'Mercury_183033': 'B', 'Mercury_402364': 'D', 'Mercury_7263183': 'B', 'Mercury_7222530': 'B', 'OHAT_2009_8_36': 'C', 'Mercury_7141750': 'B', 'TIMSS_2011_4_pg45': 'A', 'MCAS_2014_5_5': 'A', 'Mercury_SC_409241': 'C', 'Mercury_SC_401147': 'C', 'Mercury_SC_LBS10273': 'D', 'Mercury_401523': 'A', 'Mercury_401865': 'D', 'MCAS_2013_8_29435': 'B', 'Mercury_SC_406720': 'C', 'NYSEDREGENTS_2013_8_34': '1', 'Mercury_7038833': 'C', 'Mercury_175560': 'C', 'Mercury_7005005': 'C', 'Mercury_183890': 'D', 'Mercury_7270358': 'D', 'MCAS_2013_5_29411': 'C', 'ACTAAP_2007_7_31': 'C', 'Mercury_7082023': 'B', 'MCAS_2003_8_21': 'B', 'NYSEDREGENTS_2015_8_9': '2', 'Mercury_7064750': 'D', 'TIMSS_2007_8_pg113': 'C', 'Mercury_7173583': 'C', 'Mercury_403930': 'C', 'Mercury_417118': 'C', 'Mercury_7143010': 'B', 'Mercury_SC_401801': 'A', 'Mercury_410334': 'B', 'NAEP_2000_4_S12+3': 'B', 'Mercury_7218015': 'D', 'Mercury_7109603': 'A', 'NYSEDREGENTS_2008_8_42': '3', 'NAEP_2000_8_S11+11': 'B', 'Mercury_7271670': 'D', 'ACTAAP_2009_5_8': 'B', 'NYSEDREGENTS_2012_4_1': 'B', 'Mercury_SC_409030': 'D', 'MEA_2013_8_8': 'D', 'Mercury_7140333': 'D', 'Mercury_SC_LBS10664': 'C', 'Mercury_7171430': 'B', 'Mercury_SC_407572': 'D', 'VASoL_2009_3_2': 'D', 'Mercury_SC_407383': 'D', 'Mercury_7218400': 'B', 'Mercury_184818': 'D', 'Mercury_SC_405931': 'D', 'Mercury_SC_416177': 'C', 'Mercury_SC_406625': 'B', 'MCAS_2014_8_16': 'D', 'Mercury_7138460': 'C', 'Mercury_7129640': 'B', 'Mercury_7024290': 'B', 'NYSEDREGENTS_2008_4_28': 'C', 'Mercury_SC_414339': 'C', 'LEAP_2000_8_2': 'A', 'Mercury_7172270': 'A', 'Mercury_184205': 'C', 'Mercury_SC_400683': 'A', 'Mercury_7182210': 'B', 'Mercury_7238945': 'C', 'Mercury_SC_408748': 'D', 'MEA_2016_5_4': 'D', 'Mercury_7271513': 'D', 'Mercury_7189000': 'A', 'Mercury_SC_401585': 'A', 'Mercury_188528': 'D', 'Mercury_SC_415719': 'A', 'Mercury_SC_407072': 'A', 'Mercury_7091823': 'A', 'Mercury_7040985': 'B', 'Mercury_SC_409383': 'D', 'Mercury_SC_407080': 'D', 'MCAS_2000_4_34': 'A', 'Mercury_7032498': 'D', 'TAKS_2009_5_30': 'A', 'Mercury_SC_415761': 'C', 'ACTAAP_2008_5_10': 'D', 'Mercury_416671': 'D', 'Mercury_400803': 'D', 'Mercury_7005880': 'C', 'Mercury_7210508': 'C', 'NYSEDREGENTS_2013_4_1': 'C', 'NYSEDREGENTS_2008_4_12': 'C', 'Mercury_400091': 'B', 'Mercury_SC_402257': 'D', 'Mercury_7227815': 'D', 'ACTAAP_2010_7_3': 'A', 'Mercury_SC_410905': 'D', 'OHAT_2010_5_18': 'D', 'NAEP_2000_8_S11+10': 'A', 'MCAS_2003_8_29': 'B', 'Mercury_401433': 'D', 'TIMSS_1995_8_N4': 'B', 'Mercury_SC_405885': 'C', 'Mercury_7263638': 'B', 'Mercury_401428': 'B', 'Mercury_SC_402121': 'B', 'NYSEDREGENTS_2015_4_7': 'A', 'MCAS_2012_5_23614': 'C', 'Mercury_407262': 'A', 'MCAS_2014_8_6': 'B', 'Mercury_7032515': 'D', 'Mercury_7270165': 'C', 'Mercury_7017045': 'B', 'Mercury_SC_400386': 'A', 'Mercury_400750': 'D', 'MCAS_2006_9_28-v1': 'C', 'Mercury_416376': 'D', 'Mercury_7086520': 'A', 'Mercury_7014333': 'A', 'Mercury_SC_406623': 'A', 'Mercury_7042648': 'A', 'MCAS_2004_8_23': 'B', 'MCAS_2013_8_29425': 'A', 'MEAP_2005_5_15': 'B', 'Mercury_7016258': 'B', 'NCEOGA_2013_8_5': 'A', 'Mercury_7015540': 'B', 'Mercury_SC_414001': 'D', 'Mercury_7017973': 'D', 'Mercury_407097': 'C', 'Mercury_SC_406794': 'C', 'Mercury_7227710': 'D', 'Mercury_SC_406710': 'C', 'Mercury_401926': 'D', 'MCAS_2014_5_15': 'D', 'Mercury_LBS10151': 'A', 'ACTAAP_2013_5_8': 'B', 'Mercury_SC_407592': 'A', 'TIMSS_1995_8_L6': 'D', 'Mercury_7233398': 'C', 'Mercury_407664': 'D', 'Mercury_SC_408657': 'D', 'Mercury_7142800': 'B', 'Mercury_SC_410837': 'B', 'Mercury_7154315': 'A', 'Mercury_7239628': 'D', 'Mercury_401241': 'A', 'Mercury_SC_408251': 'A', 'Mercury_7175893': 'D', 'Mercury_7202843': 'A', 'Mercury_7159023': 'C', 'MDSA_2008_8_3': 'D', 'Mercury_7218348': 'A', 'Mercury_SC_406458': 'D', 'LEAP_2007_4_10280': 'A', 'Mercury_7216965': 'C', 'NYSEDREGENTS_2010_8_42': '2', 'LEAP__7_10351': 'C', 'Mercury_SC_400590': 'D', 'Mercury_7086608': 'B', 'Mercury_7187863': 'D', 'Mercury_7120873': 'C', 'Mercury_184730': 'B', 'Mercury_SC_401265': 'D', 'OHAT_2009_8_34': 'D', 'Mercury_406639': 'B', 'Mercury_7008610': 'D', 'MCAS_2009_8_12': 'A', 'MCAS_2005_8_12': 'C', 'ACTAAP_2008_7_4': 'B', 'NYSEDREGENTS_2008_4_3': 'D', 'Mercury_SC_416181': 'B', 'NYSEDREGENTS_2010_4_30': 'B', 'Mercury_7025060': 'D', 'Mercury_SC_402103': 'D', 'VASoL_2009_5_37': 'C', 'Mercury_SC_402981': 'D', 'NYSEDREGENTS_2008_8_5': '2', 'MCAS_1998_4_13': 'B', 'MDSA_2008_8_20': 'C', 'Mercury_SC_400134': 'D', 'Mercury_SC_LBS10265': 'C', 'Mercury_7188580': 'A', 'Mercury_402348': 'A', 'Mercury_7030555': 'C', 'Mercury_SC_415453': 'A', 'Mercury_7074848': 'A', 'Mercury_SC_400582': 'A', 'Mercury_SC_401168': 'C', 'Mercury_180828': 'C', 'FCAT_2008_5_1': 'A', 'TAKS_2009_5_25': 'C', 'Mercury_SC_LBS10392': 'A', 'Mercury_7212905': 'B', 'Mercury_7212888': 'A', 'MDSA_2007_8_42': 'D', 'Mercury_SC_415534': 'B', 'Mercury_7213413': 'D', 'Mercury_7068635': 'C', 'Mercury_417137': 'C', 'Mercury_7268258': 'C', 'NAEP_2005_4_S13+14': 'C', 'Mercury_SC_406089': 'D', 'Mercury_SC_400700': 'C', 'Mercury_7223493': 'A', 'Mercury_SC_405928': 'D', 'MCAS_2009_5_6518': 'D', 'MCAS_2006_9_1': 'B', 'Mercury_7239383': 'B', 'Mercury_SC_400130': 'B', 'Mercury_401426': 'D', 'MCAS_2010_8_12016': 'C', 'Mercury_SC_400324': 'B', 'Mercury_SC_LBS10662': 'C', 'VASoL_2009_3_8': 'D', 'Mercury_SC_401185': 'C', 'NYSEDREGENTS_2015_8_29': '3', 'Mercury_7234378': 'D', 'ACTAAP_2014_7_3': 'D', 'MDSA_2008_8_27': 'D', 'Mercury_7004725': 'A', 'Mercury_405143': 'C', 'MCAS_2003_8_7': 'A', 'Mercury_SC_405341': 'A', 'Mercury_7283833': 'B', 'Mercury_7159303': 'A', 'Mercury_406427': 'C', 'Mercury_SC_414129': 'B', 'Mercury_7108990': 'A', 'Mercury_SC_407315': 'A', 'Mercury_SC_408663': 'B', 'MEA_2013_8_18': 'A', 'Mercury_7111125': 'A', 'LEAP_2009_8_10430': 'A', 'Mercury_7165218': 'D', 'MEA_2013_8_15': 'A'}\n"
     ]
    }
   ],
   "source": [
    "import json\n",
    "from datasets import Dataset, DatasetDict\n",
    "from huggingface_hub import login\n",
    "import json\n",
    "from datasets import Dataset, DatasetDict\n",
    "from huggingface_hub import loginv\n",
    "from datasets import load_dataset\n",
    "test_dataset = load_dataset(\"allenai/ai2_arc\", \"ARC-Challenge\", split=\"test\")\n",
    "id_to_answer = {item['id']: item['answerKey'] for item in test_dataset}\n",
    "\n",
    "# Example usage:\n",
    "print(id_to_answer)\n",
    "# Load and format data from JSONL file\n",
    "def load_and_format_jsonl(file_path):\n",
    "    formatted_data = []\n",
    "    with open(file_path, 'r', encoding='utf-8') as f:\n",
    "        for line in f:\n",
    "            try:\n",
    "                item = json.loads(line.strip())\n",
    "                response = json.loads(item[\"response\"]['body']['choices'][0]['message']['content'])\n",
    "                formatted_data.append({\n",
    "                    \"id\": item[\"custom_id\"],\n",
    "                    \"question\": response[\"question\"],\n",
    "                    \"choices\": response[\"choices\"],\n",
    "                    \"answerKey\": id_to_answer[item[\"custom_id\"]]\n",
    "                })\n",
    "            except Exception as e:\n",
    "                print(e)\n",
    "                continue\n",
    "    return formatted_data\n",
    "\n",
    "data = load_and_format_jsonl(\"tasks/output/batch_6826c5ba76948190a723ba66e139ef01_output.jsonl\")\n",
    "\n",
    "\n",
    "dataset = Dataset.from_list(data)\n",
    "\n",
    "# If you have splits (train, test), you can create a DatasetDict, otherwise directly upload\n",
    "dataset_dict = DatasetDict({\"test\": dataset})\n",
    "# Hugging Face authentication (add your token)\n",
    "hf_token = \"\"\"\"\"\"\"\"\n",
    "login(hf_token)\n"
   ]
  },
  {
   "cell_type": "code",
   "execution_count": null,
   "metadata": {},
   "outputs": [],
   "source": []
  },
  {
   "cell_type": "code",
   "execution_count": null,
   "metadata": {},
   "outputs": [],
   "source": []
  },
  {
   "cell_type": "code",
   "execution_count": null,
   "metadata": {},
   "outputs": [
    {
     "name": "stdout",
     "output_type": "stream",
     "text": [
      "Unterminated string starting at: line 1 column 13 (char 12)\n"
     ]
    }
   ],
   "source": []
  },
  {
   "cell_type": "code",
   "execution_count": 14,
   "metadata": {},
   "outputs": [],
   "source": []
  },
  {
   "cell_type": "code",
   "execution_count": null,
   "metadata": {},
   "outputs": [],
   "source": []
  },
  {
   "cell_type": "code",
   "execution_count": 15,
   "metadata": {},
   "outputs": [],
   "source": []
  },
  {
   "cell_type": "code",
   "execution_count": 16,
   "metadata": {},
   "outputs": [
    {
     "name": "stderr",
     "output_type": "stream",
     "text": [
      "Creating parquet from Arrow format: 100%|██████████| 2/2 [00:00<00:00, 346.62ba/s]\n",
      "Uploading the dataset shards: 100%|██████████| 1/1 [00:01<00:00,  1.70s/it]\n"
     ]
    },
    {
     "data": {
      "text/plain": [
       "CommitInfo(commit_url='https://huggingface.co/datasets/enAIble-hyunseung/ARC-thai/commit/f545c18c1a8f2af503386320533474d3e28b22d0', commit_message='Upload dataset', commit_description='', oid='f545c18c1a8f2af503386320533474d3e28b22d0', pr_url=None, repo_url=RepoUrl('https://huggingface.co/datasets/enAIble-hyunseung/ARC-thai', endpoint='https://huggingface.co', repo_type='dataset', repo_id='enAIble-hyunseung/ARC-thai'), pr_revision=None, pr_num=None)"
      ]
     },
     "execution_count": 16,
     "metadata": {},
     "output_type": "execute_result"
    }
   ],
   "source": [
    "dataset_dict.push_to_hub(\"enAIble-hyunseung/ARC-thai\")\n"
   ]
  },
  {
   "cell_type": "code",
   "execution_count": null,
   "metadata": {},
   "outputs": [],
   "source": []
  }
 ],
 "metadata": {
  "kernelspec": {
   "display_name": ".venv",
   "language": "python",
   "name": "python3"
  },
  "language_info": {
   "codemirror_mode": {
    "name": "ipython",
    "version": 3
   },
   "file_extension": ".py",
   "mimetype": "text/x-python",
   "name": "python",
   "nbconvert_exporter": "python",
   "pygments_lexer": "ipython3",
   "version": "3.11.9"
  }
 },
 "nbformat": 4,
 "nbformat_minor": 2
}
